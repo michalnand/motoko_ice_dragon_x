{
 "cells": [
  {
   "cell_type": "code",
   "execution_count": 16,
   "metadata": {},
   "outputs": [
    {
     "name": "stdout",
     "output_type": "stream",
     "text": [
      "rpm_max =  4010.7045659157625\n",
      "continuous model\n",
      "a =  [[-52.63157895]]\n",
      "b =  [[22105.26315789]]\n",
      "\n"
     ]
    },
    {
     "data": {
      "text/plain": [
       "<Figure size 640x480 with 0 Axes>"
      ]
     },
     "metadata": {},
     "output_type": "display_data"
    },
    {
     "data": {
      "image/png": "[encoded data removed]",
      "text/plain": [
       "<Figure size 800x200 with 1 Axes>"
      ]
     },
     "metadata": {},
     "output_type": "display_data"
    }
   ],
   "source": [
    "import LibsControl\n",
    "import numpy\n",
    "import matplotlib.pyplot as plt\n",
    "\n",
    "#parameters from identification\n",
    "\n",
    "#sampling frequency, 4kHz\n",
    "dt       = 1.0/4000.0\n",
    "\n",
    "\n",
    "'''\n",
    "u_max       = 1.0\n",
    "k           = 80.818    # motor constant \n",
    "rad_var     = 12.788    # (rad/s)^2 variance (encoder noise)\n",
    "tau         = 9.876     # motor time constant, milliseconds\n",
    "'''\n",
    "\n",
    "'''\n",
    "u_max       = 1.0       # motor max input range\n",
    "k           = 139.084   # motor constant \n",
    "rad_var     = 140.463   # (rad/s)^2 variance (encoder noise)\n",
    "tau         = 8.276     # motor time constant, milliseconds\n",
    "'''\n",
    "\n",
    "'''\n",
    "u_max       = 1.0\n",
    "k          =  206.924\n",
    "rad_var     =  1.438\n",
    "tau         =  18.461\n",
    "'''\n",
    "\n",
    "'''\n",
    "u_max       = 1.0\n",
    "k          =  206.924\n",
    "rad_var     =  1.438\n",
    "#tau         =  18.461\n",
    "tau         =  34\n",
    "'''\n",
    "\n",
    "#u_max       = 1.0\n",
    "#k           =  211\n",
    "#rad_var     =  1.438\n",
    "#tau         =  15\n",
    "\n",
    "\n",
    "\n",
    "u_max      = 1.0\n",
    "k          =  420\n",
    "rad_var =  87.164\n",
    "#tau         =  16\n",
    "tau         =  19\n",
    "\n",
    "rpm_max = u_max*k*60.0/(2.0*numpy.pi)\n",
    "\n",
    "print(\"rpm_max = \", rpm_max)\n",
    "\n",
    "\n",
    "#continuous time dynamics\n",
    "mat_a = numpy.zeros((1, 1))\n",
    "mat_b = numpy.zeros((1, 1))\n",
    "mat_c = numpy.eye(1)\n",
    " \n",
    "tau = tau*0.001\n",
    "mat_a[0][0] = -1.0/tau    \n",
    "mat_b[0][0] = k*(1.0/tau)\n",
    "\n",
    "\n",
    "print(\"continuous model\")\n",
    "print(\"a = \", mat_a)\n",
    "print(\"b = \", mat_b)\n",
    "print()\n",
    "\n",
    "\n",
    "#create dynamical system\n",
    "ds = LibsControl.DynamicalSystem(mat_a, mat_b, mat_c, dt)\n",
    "\n",
    "\n",
    "#compute step response\n",
    "t_result = []\n",
    "u_result = []\n",
    "x_result = []\n",
    "\n",
    "\n",
    "for n in range(500):\n",
    "\n",
    "    # unit step as input\n",
    "    u = numpy.ones((1, 1))\n",
    "\n",
    "    x, _ = ds.forward_state(u)\n",
    "\n",
    "    t_result.append(n*dt)\n",
    "    x_result.append(x[:, 0])\n",
    "\n",
    "t_result = numpy.array(t_result)\n",
    "x_result = numpy.array(x_result)\n",
    "\n",
    "#plot result\n",
    "LibsControl.plot_open_loop_response(t_result, x_result*60.0/(2.0*numpy.pi), file_name = \"step_response.png\", labels = [\"rpm\"])\n",
    "\n",
    "\n"
   ]
  },
  {
   "cell_type": "code",
   "execution_count": 17,
   "metadata": {},
   "outputs": [
    {
     "name": "stdout",
     "output_type": "stream",
     "text": [
      "discrete model\n",
      "a =  [[0.9869281]]\n",
      "b =  [[5.49019608]]\n",
      "\n",
      "\n",
      "controller\n",
      "k  =  [[0.00884392]]\n",
      "ki =  [[0.00032381]]\n",
      "f  =  [[0.0621715]]\n"
     ]
    }
   ],
   "source": [
    "\n",
    "\n",
    "#create loss weighting matrices (diagonal)\n",
    "q = numpy.array([ [1.0] ] )\n",
    "r = numpy.array( [ [10**7] ]) \n",
    "\n",
    "#process and observation noise covariance\n",
    "q_noise = 0.5*numpy.eye(ds.a.shape[0]) \n",
    "r_noise = rad_var*numpy.eye(ds.c.shape[0]) \n",
    " \n",
    "\n",
    "a_disc, b_disc, c_disc = LibsControl.c2d(ds.a, ds.b, ds.c, dt)\n",
    "\n",
    "print(\"discrete model\")\n",
    "print(\"a = \", a_disc)\n",
    "print(\"b = \", b_disc)\n",
    "#print()\n",
    "#print(\"poles\")\n",
    "#print(numpy.linalg.eigvals(a_disc))\n",
    "print(\"\\n\")\n",
    "\n",
    "#solve LQG controller\n",
    "lqg = LibsControl.LQGDiscrete(a_disc, b_disc, c_disc, q, r, q_noise, r_noise)\n",
    "\n",
    "print(\"controller\")\n",
    "print(\"k  = \", lqg.k)\n",
    "print(\"ki = \", lqg.ki)\n",
    "print(\"f  = \", lqg.f)\n",
    "\n",
    "\n"
   ]
  },
  {
   "cell_type": "code",
   "execution_count": 18,
   "metadata": {},
   "outputs": [
    {
     "data": {
      "text/plain": [
       "<Figure size 640x480 with 0 Axes>"
      ]
     },
     "metadata": {},
     "output_type": "display_data"
    },
    {
     "data": {
      "text/plain": [
       "<Figure size 800x400 with 0 Axes>"
      ]
     },
     "metadata": {},
     "output_type": "display_data"
    },
    {
     "data": {
      "image/png": "[encoded data removed]",
      "text/plain": [
       "<Figure size 800x400 with 2 Axes>"
      ]
     },
     "metadata": {},
     "output_type": "display_data"
    }
   ],
   "source": [
    "\n",
    "#process simulation\n",
    "\n",
    "n_max = 2000\n",
    "\n",
    "#required output, 1000rpm\n",
    "rpm_req = 1000\n",
    "\n",
    "yr = numpy.zeros((mat_c.shape[0], 1))\n",
    "yr[0][0] = (rpm_req/60.0)*(2.0*numpy.pi) \n",
    "\n",
    "\n",
    "#observed state\n",
    "x_hat = numpy.zeros((mat_a.shape[0], 1))\n",
    "\n",
    "\n",
    "\n",
    "#initial error integral\n",
    "integral_action = numpy.zeros((mat_b.shape[1], 1))\n",
    "\n",
    "#result log\n",
    "t_result = []\n",
    "u_result = []\n",
    "u_in_result = []\n",
    "x_result = []\n",
    "\n",
    "\n",
    "\n",
    "#initial motor state\n",
    "ds.reset()\n",
    "\n",
    "#plant output\n",
    "y = ds.y\n",
    "\n",
    "for n in range(n_max):\n",
    "\n",
    "    #compute controller output\n",
    "    u, integral_action, x_hat = lqg.forward(yr, y, integral_action, x_hat)\n",
    "    \n",
    "    u_in = u.copy()\n",
    "\n",
    "    #add constant disturbance in middle\n",
    "    if n > n_max//2:\n",
    "        u_in[0]+= 0.5\n",
    " \n",
    "    #compute plant output\n",
    "    x, y = ds.forward_state(u_in)\n",
    "  \n",
    "    \n",
    "\n",
    "    t_result.append(n*dt)\n",
    "    u_result.append(u[:, 0].copy())\n",
    "    u_in_result.append(u_in[:, 0].copy())\n",
    "    x_result.append(x[:, 0].copy())\n",
    "\n",
    "    \n",
    "    \n",
    "t_result = numpy.array(t_result)\n",
    "x_result = numpy.array(x_result)\n",
    "u_result = numpy.array(u_result)\n",
    "u_in_result = numpy.array(u_in_result)\n",
    "\n",
    "#convert rps to rpm\n",
    "x_result[:, 0]*= 60.0/(2.0*numpy.pi)\n",
    "\n",
    "#plot results\n",
    "LibsControl.plot_closed_loop_response(t_result, u_in_result, x_result, x_hat = None, file_name = \"lqg_discrete_output.png\", u_labels = [\"input u\"], x_labels = [\"velocity [rpm]\"])\n",
    "LibsControl.plot_closed_loop_response(t_result, u_result, x_result, x_hat = None, file_name = \"lqg_discrete_output.png\", u_labels = [\"input u\"], x_labels = [\"velocity [rpm]\"])\n"
   ]
  }
 ],
 "metadata": {
  "kernelspec": {
   "display_name": "Python 3",
   "language": "python",
   "name": "python3"
  },
  "language_info": {
   "codemirror_mode": {
    "name": "ipython",
    "version": 3
   },
   "file_extension": ".py",
   "mimetype": "text/x-python",
   "name": "python",
   "nbconvert_exporter": "python",
   "pygments_lexer": "ipython3",
   "version": "3.9.21"
  }
 },
 "nbformat": 4,
 "nbformat_minor": 2
}
