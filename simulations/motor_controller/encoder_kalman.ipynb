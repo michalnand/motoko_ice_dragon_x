{
 "cells": [
  {
   "cell_type": "code",
   "execution_count": 25,
   "metadata": {},
   "outputs": [
    {
     "name": "stdout",
     "output_type": "stream",
     "text": [
      "1.0\n",
      "[[1.]]\n",
      "[[0.03219655]]\n"
     ]
    }
   ],
   "source": [
    "import LibsControl\n",
    "import numpy\n",
    "import matplotlib.pyplot as plt\n",
    "\n",
    "import scipy\n",
    "\n",
    "\n",
    "'''\n",
    "H is observation matrix\n",
    "A is system matrix\n",
    "''' \n",
    "def solve_kalman_gain(a, h, q, r):\n",
    "    p = scipy.linalg.solve_discrete_are(a.T, h.T, q, r) \n",
    "    f = p@h.T@scipy.linalg.inv(h@p@h.T + r)\n",
    "\n",
    "    return f\n",
    "\n",
    "\n",
    "\n",
    "\n",
    "#sampling frequency, 4kHz\n",
    "dt       = 1.0/4000.0\n",
    "\n",
    "v_noise_var =  87.164**0.5\n",
    "\n",
    "\n",
    "# Process noise covariance\n",
    "Q = numpy.array([[0.01]])\n",
    "\n",
    "# Measurement noise variance\n",
    "\n",
    "R = numpy.array([[v_noise_var]])\n",
    "\n",
    "\n",
    "# State transition matrix\n",
    "A = numpy.array(1.0)    \n",
    "\n",
    "# Measurement matrix\n",
    "H = numpy.array([[1.0]])  # We measure only velocity\n",
    "\n",
    "print(A)\n",
    "print(H)\n",
    "\n",
    "k = solve_kalman_gain(A, H, Q, R)\n",
    "\n",
    "print(k)"
   ]
  }
 ],
 "metadata": {
  "kernelspec": {
   "display_name": "Python 3",
   "language": "python",
   "name": "python3"
  },
  "language_info": {
   "codemirror_mode": {
    "name": "ipython",
    "version": 3
   },
   "file_extension": ".py",
   "mimetype": "text/x-python",
   "name": "python",
   "nbconvert_exporter": "python",
   "pygments_lexer": "ipython3",
   "version": "3.9.21"
  }
 },
 "nbformat": 4,
 "nbformat_minor": 2
}
